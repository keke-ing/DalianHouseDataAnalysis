{
 "nbformat": 4,
 "nbformat_minor": 2,
 "metadata": {
  "language_info": {
   "name": "python",
   "codemirror_mode": {
    "name": "ipython",
    "version": 3
   },
   "version": "3.8.1-final"
  },
  "orig_nbformat": 2,
  "file_extension": ".py",
  "mimetype": "text/x-python",
  "name": "python",
  "npconvert_exporter": "python",
  "pygments_lexer": "ipython3",
  "version": 3,
  "kernelspec": {
   "name": "python38164bit689ce9532f7a4f68816de0f6cf09db80",
   "display_name": "Python 3.8.1 64-bit"
  },
  "pycharm": {
   "stem_cell": {
    "cell_type": "raw",
    "source": [],
    "metadata": {
     "collapsed": false
    }
   }
  }
 },
 "cells": [
  {
   "cell_type": "code",
   "execution_count": 24,
   "metadata": {},
   "outputs": [],
   "source": [
    "import pandas as pd\n",
    "import numpy as np\n",
    "from sklearn.cluster import KMeans\n"
   ]
  },
  {
   "cell_type": "code",
   "execution_count": 25,
   "metadata": {},
   "outputs": [
    {
     "data": {
      "text/html": "<div>\n<style scoped>\n    .dataframe tbody tr th:only-of-type {\n        vertical-align: middle;\n    }\n\n    .dataframe tbody tr th {\n        vertical-align: top;\n    }\n\n    .dataframe thead th {\n        text-align: right;\n    }\n</style>\n<table border=\"1\" class=\"dataframe\">\n  <thead>\n    <tr style=\"text-align: right;\">\n      <th></th>\n      <th>address</th>\n      <th>house_age</th>\n      <th>deal_time</th>\n      <th>deal_totalPrice</th>\n      <th>deal_unitPrice</th>\n      <th>floor_number</th>\n      <th>gross_area</th>\n      <th>house_decoration</th>\n      <th>house_orientation</th>\n      <th>house_usage</th>\n      <th>household_style</th>\n      <th>is_two_five</th>\n      <th>longitude_latitude</th>\n      <th>region</th>\n      <th>with_elevator</th>\n      <th>xiaoqu</th>\n      <th>lon</th>\n      <th>lat</th>\n    </tr>\n  </thead>\n  <tbody>\n    <tr>\n      <th>0</th>\n      <td>qianguan</td>\n      <td>11</td>\n      <td>2016-07</td>\n      <td>53</td>\n      <td>7391</td>\n      <td>10</td>\n      <td>71.71</td>\n      <td>其他</td>\n      <td>南</td>\n      <td>普通住宅</td>\n      <td>2室1厅1厨1卫</td>\n      <td>0</td>\n      <td>121.657898,39.025583</td>\n      <td>ganjingzi</td>\n      <td>1</td>\n      <td>盐岛湖</td>\n      <td>121.657898</td>\n      <td>39.025583</td>\n    </tr>\n    <tr>\n      <th>1</th>\n      <td>yishanli</td>\n      <td>13</td>\n      <td>2016-01</td>\n      <td>27</td>\n      <td>5639</td>\n      <td>15</td>\n      <td>47.00</td>\n      <td>其他</td>\n      <td>南</td>\n      <td>普通住宅</td>\n      <td>1室1厅1厨1卫</td>\n      <td>0</td>\n      <td>121.80001712729,39.063714218257</td>\n      <td>kaifaqudl</td>\n      <td>1</td>\n      <td>新东方公寓二期</td>\n      <td>121.800017</td>\n      <td>39.063714</td>\n    </tr>\n    <tr>\n      <th>2</th>\n      <td>zhanqian</td>\n      <td>10</td>\n      <td>2016-01</td>\n      <td>43</td>\n      <td>6344</td>\n      <td>18</td>\n      <td>67.00</td>\n      <td>精装</td>\n      <td>南</td>\n      <td>普通住宅</td>\n      <td>2室1厅1厨1卫</td>\n      <td>0</td>\n      <td>121.72275181639,39.092176577691</td>\n      <td>jinzhou</td>\n      <td>1</td>\n      <td>金连福地</td>\n      <td>121.722752</td>\n      <td>39.092177</td>\n    </tr>\n    <tr>\n      <th>3</th>\n      <td>lvshunkou1</td>\n      <td>6</td>\n      <td>2018-06</td>\n      <td>68</td>\n      <td>8418</td>\n      <td>29</td>\n      <td>80.67</td>\n      <td>毛坯</td>\n      <td>南</td>\n      <td>普通住宅</td>\n      <td>2室1厅1厨1卫</td>\n      <td>0</td>\n      <td>121.337111,38.8275</td>\n      <td>lvshunkou</td>\n      <td>1</td>\n      <td>亿达蓝山</td>\n      <td>121.337111</td>\n      <td>38.827500</td>\n    </tr>\n    <tr>\n      <th>4</th>\n      <td>lvshunkou1</td>\n      <td>10</td>\n      <td>2019-09</td>\n      <td>44</td>\n      <td>5117</td>\n      <td>18</td>\n      <td>86.00</td>\n      <td>其他</td>\n      <td>南 北</td>\n      <td>普通住宅</td>\n      <td>2室2厅1厨1卫</td>\n      <td>0</td>\n      <td>121.15637357126,38.781604479132</td>\n      <td>lvshunkou</td>\n      <td>1</td>\n      <td>华通和平海岸二期</td>\n      <td>121.156374</td>\n      <td>38.781604</td>\n    </tr>\n    <tr>\n      <th>...</th>\n      <td>...</td>\n      <td>...</td>\n      <td>...</td>\n      <td>...</td>\n      <td>...</td>\n      <td>...</td>\n      <td>...</td>\n      <td>...</td>\n      <td>...</td>\n      <td>...</td>\n      <td>...</td>\n      <td>...</td>\n      <td>...</td>\n      <td>...</td>\n      <td>...</td>\n      <td>...</td>\n      <td>...</td>\n      <td>...</td>\n    </tr>\n    <tr>\n      <th>71237</th>\n      <td>huadong</td>\n      <td>11</td>\n      <td>2019-09</td>\n      <td>148</td>\n      <td>14077</td>\n      <td>10</td>\n      <td>105.14</td>\n      <td>精装</td>\n      <td>南 北</td>\n      <td>普通住宅</td>\n      <td>2室1厅1厨1卫</td>\n      <td>0</td>\n      <td>121.606337,38.988962</td>\n      <td>ganjingzi</td>\n      <td>1</td>\n      <td>玉树临居</td>\n      <td>121.606337</td>\n      <td>38.988962</td>\n    </tr>\n    <tr>\n      <th>71238</th>\n      <td>huadong</td>\n      <td>11</td>\n      <td>2019-09</td>\n      <td>141</td>\n      <td>15492</td>\n      <td>11</td>\n      <td>90.38</td>\n      <td>精装</td>\n      <td>南 北</td>\n      <td>普通住宅</td>\n      <td>2室1厅1厨1卫</td>\n      <td>0</td>\n      <td>121.607141,38.986084</td>\n      <td>ganjingzi</td>\n      <td>1</td>\n      <td>格林翠庭</td>\n      <td>121.607141</td>\n      <td>38.986084</td>\n    </tr>\n    <tr>\n      <th>71239</th>\n      <td>huadong</td>\n      <td>11</td>\n      <td>2019-09</td>\n      <td>99</td>\n      <td>11776</td>\n      <td>20</td>\n      <td>83.65</td>\n      <td>精装</td>\n      <td>东南 北</td>\n      <td>普通住宅</td>\n      <td>2室1厅1厨1卫</td>\n      <td>5</td>\n      <td>121.615001,38.985904</td>\n      <td>ganjingzi</td>\n      <td>1</td>\n      <td>今都小区</td>\n      <td>121.615001</td>\n      <td>38.985904</td>\n    </tr>\n    <tr>\n      <th>71240</th>\n      <td>huadong</td>\n      <td>12</td>\n      <td>2019-09</td>\n      <td>98</td>\n      <td>12099</td>\n      <td>20</td>\n      <td>81.00</td>\n      <td>简装</td>\n      <td>东南</td>\n      <td>普通住宅</td>\n      <td>2室1厅1厨1卫</td>\n      <td>0</td>\n      <td>121.615001,38.985904</td>\n      <td>ganjingzi</td>\n      <td>1</td>\n      <td>今都小区</td>\n      <td>121.615001</td>\n      <td>38.985904</td>\n    </tr>\n    <tr>\n      <th>71241</th>\n      <td>huadong</td>\n      <td>11</td>\n      <td>2019-09</td>\n      <td>50</td>\n      <td>10691</td>\n      <td>18</td>\n      <td>46.77</td>\n      <td>精装</td>\n      <td>北</td>\n      <td>普通住宅</td>\n      <td>1室1厅1厨1卫</td>\n      <td>0</td>\n      <td>121.611186,38.981973</td>\n      <td>ganjingzi</td>\n      <td>1</td>\n      <td>亲亲美境</td>\n      <td>121.611186</td>\n      <td>38.981973</td>\n    </tr>\n  </tbody>\n</table>\n<p>71242 rows × 18 columns</p>\n</div>",
      "text/plain": "          address  house_age deal_time  deal_totalPrice  deal_unitPrice  \\\n0        qianguan         11   2016-07               53            7391   \n1        yishanli         13   2016-01               27            5639   \n2        zhanqian         10   2016-01               43            6344   \n3      lvshunkou1          6   2018-06               68            8418   \n4      lvshunkou1         10   2019-09               44            5117   \n...           ...        ...       ...              ...             ...   \n71237     huadong         11   2019-09              148           14077   \n71238     huadong         11   2019-09              141           15492   \n71239     huadong         11   2019-09               99           11776   \n71240     huadong         12   2019-09               98           12099   \n71241     huadong         11   2019-09               50           10691   \n\n       floor_number  gross_area house_decoration house_orientation  \\\n0                10       71.71               其他                 南   \n1                15       47.00               其他                 南   \n2                18       67.00               精装                 南   \n3                29       80.67               毛坯                 南   \n4                18       86.00               其他               南 北   \n...             ...         ...              ...               ...   \n71237            10      105.14               精装               南 北   \n71238            11       90.38               精装               南 北   \n71239            20       83.65               精装              东南 北   \n71240            20       81.00               简装                东南   \n71241            18       46.77               精装                 北   \n\n      house_usage household_style  is_two_five  \\\n0            普通住宅        2室1厅1厨1卫            0   \n1            普通住宅        1室1厅1厨1卫            0   \n2            普通住宅        2室1厅1厨1卫            0   \n3            普通住宅        2室1厅1厨1卫            0   \n4            普通住宅        2室2厅1厨1卫            0   \n...           ...             ...          ...   \n71237        普通住宅        2室1厅1厨1卫            0   \n71238        普通住宅        2室1厅1厨1卫            0   \n71239        普通住宅        2室1厅1厨1卫            5   \n71240        普通住宅        2室1厅1厨1卫            0   \n71241        普通住宅        1室1厅1厨1卫            0   \n\n                    longitude_latitude     region  with_elevator    xiaoqu  \\\n0                 121.657898,39.025583  ganjingzi              1       盐岛湖   \n1      121.80001712729,39.063714218257  kaifaqudl              1   新东方公寓二期   \n2      121.72275181639,39.092176577691    jinzhou              1      金连福地   \n3                   121.337111,38.8275  lvshunkou              1      亿达蓝山   \n4      121.15637357126,38.781604479132  lvshunkou              1  华通和平海岸二期   \n...                                ...        ...            ...       ...   \n71237             121.606337,38.988962  ganjingzi              1      玉树临居   \n71238             121.607141,38.986084  ganjingzi              1      格林翠庭   \n71239             121.615001,38.985904  ganjingzi              1      今都小区   \n71240             121.615001,38.985904  ganjingzi              1      今都小区   \n71241             121.611186,38.981973  ganjingzi              1      亲亲美境   \n\n              lon        lat  \n0      121.657898  39.025583  \n1      121.800017  39.063714  \n2      121.722752  39.092177  \n3      121.337111  38.827500  \n4      121.156374  38.781604  \n...           ...        ...  \n71237  121.606337  38.988962  \n71238  121.607141  38.986084  \n71239  121.615001  38.985904  \n71240  121.615001  38.985904  \n71241  121.611186  38.981973  \n\n[71242 rows x 18 columns]"
     },
     "execution_count": 25,
     "metadata": {},
     "output_type": "execute_result"
    }
   ],
   "source": [
    "df = pd.read_csv(\n",
    "    r'/home/kekeing/Desktop/code/DateMining/data/lianjia_processed.csv', sep=',')\n",
    "df"
   ]
  },
  {
   "cell_type": "code",
   "execution_count": 26,
   "metadata": {},
   "outputs": [],
   "source": [
    "dff = df[['deal_totalPrice', 'gross_area']]\n",
    "da = dff.to_numpy()"
   ]
  },
  {
   "cell_type": "code",
   "execution_count": 37,
   "metadata": {},
   "outputs": [
    {
     "data": {
      "text/html": "<div>\n<style scoped>\n    .dataframe tbody tr th:only-of-type {\n        vertical-align: middle;\n    }\n\n    .dataframe tbody tr th {\n        vertical-align: top;\n    }\n\n    .dataframe thead th {\n        text-align: right;\n    }\n</style>\n<table border=\"1\" class=\"dataframe\">\n  <thead>\n    <tr style=\"text-align: right;\">\n      <th></th>\n      <th>deal_totalPrice</th>\n      <th>gross_area</th>\n      <th>address</th>\n      <th>house_age</th>\n      <th>deal_time</th>\n      <th>deal_unitPrice</th>\n      <th>floor_number</th>\n      <th>house_decoration</th>\n      <th>house_orientation</th>\n      <th>house_usage</th>\n      <th>household_style</th>\n      <th>is_two_five</th>\n      <th>longitude_latitude</th>\n      <th>region</th>\n      <th>with_elevator</th>\n      <th>xiaoqu</th>\n      <th>lon</th>\n      <th>lat</th>\n    </tr>\n  </thead>\n  <tbody>\n    <tr>\n      <th>0</th>\n      <td>53</td>\n      <td>71.71</td>\n      <td>qianguan</td>\n      <td>11</td>\n      <td>2016-07</td>\n      <td>7391</td>\n      <td>10</td>\n      <td>其他</td>\n      <td>南</td>\n      <td>普通住宅</td>\n      <td>2室1厅1厨1卫</td>\n      <td>0</td>\n      <td>121.657898,39.025583</td>\n      <td>ganjingzi</td>\n      <td>1</td>\n      <td>盐岛湖</td>\n      <td>121.657898</td>\n      <td>39.025583</td>\n    </tr>\n    <tr>\n      <th>1</th>\n      <td>27</td>\n      <td>47.00</td>\n      <td>yishanli</td>\n      <td>13</td>\n      <td>2016-01</td>\n      <td>5639</td>\n      <td>15</td>\n      <td>其他</td>\n      <td>南</td>\n      <td>普通住宅</td>\n      <td>1室1厅1厨1卫</td>\n      <td>0</td>\n      <td>121.80001712729,39.063714218257</td>\n      <td>kaifaqudl</td>\n      <td>1</td>\n      <td>新东方公寓二期</td>\n      <td>121.800017</td>\n      <td>39.063714</td>\n    </tr>\n    <tr>\n      <th>2</th>\n      <td>27</td>\n      <td>47.00</td>\n      <td>yishanli</td>\n      <td>8</td>\n      <td>2019-11</td>\n      <td>5745</td>\n      <td>33</td>\n      <td>简装</td>\n      <td>南</td>\n      <td>普通住宅</td>\n      <td>1室1厅1厨1卫</td>\n      <td>0</td>\n      <td>121.80104801554,39.063906218213</td>\n      <td>kaifaqudl</td>\n      <td>1</td>\n      <td>新东方公寓三期</td>\n      <td>121.801048</td>\n      <td>39.063906</td>\n    </tr>\n    <tr>\n      <th>3</th>\n      <td>43</td>\n      <td>67.00</td>\n      <td>zhanqian</td>\n      <td>10</td>\n      <td>2016-01</td>\n      <td>6344</td>\n      <td>18</td>\n      <td>精装</td>\n      <td>南</td>\n      <td>普通住宅</td>\n      <td>2室1厅1厨1卫</td>\n      <td>0</td>\n      <td>121.72275181639,39.092176577691</td>\n      <td>jinzhou</td>\n      <td>1</td>\n      <td>金连福地</td>\n      <td>121.722752</td>\n      <td>39.092177</td>\n    </tr>\n    <tr>\n      <th>4</th>\n      <td>43</td>\n      <td>67.00</td>\n      <td>chengrun</td>\n      <td>13</td>\n      <td>2016-11</td>\n      <td>6344</td>\n      <td>15</td>\n      <td>其他</td>\n      <td>南</td>\n      <td>普通住宅</td>\n      <td>1室1厅1厨1卫</td>\n      <td>5</td>\n      <td>121.74782,39.058569</td>\n      <td>kaifaqudl</td>\n      <td>1</td>\n      <td>生辉第一城</td>\n      <td>121.747820</td>\n      <td>39.058569</td>\n    </tr>\n    <tr>\n      <th>...</th>\n      <td>...</td>\n      <td>...</td>\n      <td>...</td>\n      <td>...</td>\n      <td>...</td>\n      <td>...</td>\n      <td>...</td>\n      <td>...</td>\n      <td>...</td>\n      <td>...</td>\n      <td>...</td>\n      <td>...</td>\n      <td>...</td>\n      <td>...</td>\n      <td>...</td>\n      <td>...</td>\n      <td>...</td>\n      <td>...</td>\n    </tr>\n    <tr>\n      <th>70167</th>\n      <td>56</td>\n      <td>48.20</td>\n      <td>huadong</td>\n      <td>12</td>\n      <td>2019-09</td>\n      <td>11577</td>\n      <td>24</td>\n      <td>简装</td>\n      <td>西南</td>\n      <td>普通住宅</td>\n      <td>1室0厅1厨1卫</td>\n      <td>5</td>\n      <td>121.606141,38.987776</td>\n      <td>ganjingzi</td>\n      <td>1</td>\n      <td>晶品枫林</td>\n      <td>121.606141</td>\n      <td>38.987776</td>\n    </tr>\n    <tr>\n      <th>70168</th>\n      <td>64</td>\n      <td>44.06</td>\n      <td>huadong</td>\n      <td>12</td>\n      <td>2019-09</td>\n      <td>14481</td>\n      <td>24</td>\n      <td>简装</td>\n      <td>南</td>\n      <td>普通住宅</td>\n      <td>1室0厅1厨1卫</td>\n      <td>0</td>\n      <td>121.606141,38.987776</td>\n      <td>ganjingzi</td>\n      <td>1</td>\n      <td>晶品枫林</td>\n      <td>121.606141</td>\n      <td>38.987776</td>\n    </tr>\n    <tr>\n      <th>70169</th>\n      <td>50</td>\n      <td>46.77</td>\n      <td>huanan</td>\n      <td>13</td>\n      <td>2016-09</td>\n      <td>10584</td>\n      <td>5</td>\n      <td>其他</td>\n      <td>南</td>\n      <td>普通住宅</td>\n      <td>1室0厅1厨1卫</td>\n      <td>0</td>\n      <td>121.58703,38.999537</td>\n      <td>ganjingzi</td>\n      <td>0</td>\n      <td>动力院景二期汇善南园</td>\n      <td>121.587030</td>\n      <td>38.999537</td>\n    </tr>\n    <tr>\n      <th>70170</th>\n      <td>50</td>\n      <td>46.77</td>\n      <td>huanan</td>\n      <td>13</td>\n      <td>2016-08</td>\n      <td>10584</td>\n      <td>5</td>\n      <td>其他</td>\n      <td>南</td>\n      <td>普通住宅</td>\n      <td>1室0厅1厨1卫</td>\n      <td>0</td>\n      <td>121.58703,38.999537</td>\n      <td>ganjingzi</td>\n      <td>0</td>\n      <td>动力院景二期汇善南园</td>\n      <td>121.587030</td>\n      <td>38.999537</td>\n    </tr>\n    <tr>\n      <th>70171</th>\n      <td>50</td>\n      <td>46.77</td>\n      <td>huadong</td>\n      <td>11</td>\n      <td>2019-09</td>\n      <td>10691</td>\n      <td>18</td>\n      <td>精装</td>\n      <td>北</td>\n      <td>普通住宅</td>\n      <td>1室1厅1厨1卫</td>\n      <td>0</td>\n      <td>121.611186,38.981973</td>\n      <td>ganjingzi</td>\n      <td>1</td>\n      <td>亲亲美境</td>\n      <td>121.611186</td>\n      <td>38.981973</td>\n    </tr>\n  </tbody>\n</table>\n<p>70172 rows × 18 columns</p>\n</div>",
      "text/plain": "       deal_totalPrice  gross_area   address  house_age deal_time  \\\n0                   53       71.71  qianguan         11   2016-07   \n1                   27       47.00  yishanli         13   2016-01   \n2                   27       47.00  yishanli          8   2019-11   \n3                   43       67.00  zhanqian         10   2016-01   \n4                   43       67.00  chengrun         13   2016-11   \n...                ...         ...       ...        ...       ...   \n70167               56       48.20   huadong         12   2019-09   \n70168               64       44.06   huadong         12   2019-09   \n70169               50       46.77    huanan         13   2016-09   \n70170               50       46.77    huanan         13   2016-08   \n70171               50       46.77   huadong         11   2019-09   \n\n       deal_unitPrice  floor_number house_decoration house_orientation  \\\n0                7391            10               其他                 南   \n1                5639            15               其他                 南   \n2                5745            33               简装                 南   \n3                6344            18               精装                 南   \n4                6344            15               其他                 南   \n...               ...           ...              ...               ...   \n70167           11577            24               简装                西南   \n70168           14481            24               简装                 南   \n70169           10584             5               其他                 南   \n70170           10584             5               其他                 南   \n70171           10691            18               精装                 北   \n\n      house_usage household_style  is_two_five  \\\n0            普通住宅        2室1厅1厨1卫            0   \n1            普通住宅        1室1厅1厨1卫            0   \n2            普通住宅        1室1厅1厨1卫            0   \n3            普通住宅        2室1厅1厨1卫            0   \n4            普通住宅        1室1厅1厨1卫            5   \n...           ...             ...          ...   \n70167        普通住宅        1室0厅1厨1卫            5   \n70168        普通住宅        1室0厅1厨1卫            0   \n70169        普通住宅        1室0厅1厨1卫            0   \n70170        普通住宅        1室0厅1厨1卫            0   \n70171        普通住宅        1室1厅1厨1卫            0   \n\n                    longitude_latitude     region  with_elevator      xiaoqu  \\\n0                 121.657898,39.025583  ganjingzi              1         盐岛湖   \n1      121.80001712729,39.063714218257  kaifaqudl              1     新东方公寓二期   \n2      121.80104801554,39.063906218213  kaifaqudl              1     新东方公寓三期   \n3      121.72275181639,39.092176577691    jinzhou              1        金连福地   \n4                  121.74782,39.058569  kaifaqudl              1       生辉第一城   \n...                                ...        ...            ...         ...   \n70167             121.606141,38.987776  ganjingzi              1        晶品枫林   \n70168             121.606141,38.987776  ganjingzi              1        晶品枫林   \n70169              121.58703,38.999537  ganjingzi              0  动力院景二期汇善南园   \n70170              121.58703,38.999537  ganjingzi              0  动力院景二期汇善南园   \n70171             121.611186,38.981973  ganjingzi              1        亲亲美境   \n\n              lon        lat  \n0      121.657898  39.025583  \n1      121.800017  39.063714  \n2      121.801048  39.063906  \n3      121.722752  39.092177  \n4      121.747820  39.058569  \n...           ...        ...  \n70167  121.606141  38.987776  \n70168  121.606141  38.987776  \n70169  121.587030  38.999537  \n70170  121.587030  38.999537  \n70171  121.611186  38.981973  \n\n[70172 rows x 18 columns]"
     },
     "execution_count": 37,
     "metadata": {},
     "output_type": "execute_result"
    }
   ],
   "source": [
    "k_means = KMeans(init='k-means++', n_clusters=3, n_init=10)\n",
    "k_means.fit(da)\n",
    "res0Series = pd.Series(k_means.labels_)\n",
    "res0 = res0Series[res0Series.values == 0]\n",
    "res1 = res0Series[res0Series.values == 1]\n",
    "res2 = res0Series[res0Series.values == 2]\n",
    "dft = dff.iloc[res0.index]\n",
    "# dft\n",
    "# dd = pd.DataFrame(dft,columns=['deal_totalPrice','gross_area'])\n",
    "\n",
    "result = pd.merge(dft, df, how='left',on=['deal_totalPrice', 'gross_area'])\n",
    "result"
   ]
  },
  {
   "cell_type": "code",
   "execution_count": null,
   "metadata": {},
   "outputs": [],
   "source": []
  }
 ]
}