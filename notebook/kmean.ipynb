{
 "nbformat": 4,
 "nbformat_minor": 2,
 "metadata": {
  "language_info": {
   "name": "python",
   "codemirror_mode": {
    "name": "ipython",
    "version": 3
   },
   "version": "3.8.1-final"
  },
  "orig_nbformat": 2,
  "file_extension": ".py",
  "mimetype": "text/x-python",
  "name": "python",
  "npconvert_exporter": "python",
  "pygments_lexer": "ipython3",
  "version": 3,
  "kernelspec": {
   "name": "python38164bit689ce9532f7a4f68816de0f6cf09db80",
   "display_name": "Python 3.8.1 64-bit"
  }
 },
 "cells": [
  {
   "cell_type": "code",
   "execution_count": 1,
   "metadata": {},
   "outputs": [],
   "source": [
    "import pandas as pd\n",
    "import matplotlib.pyplot as plt\n",
    "import numpy as np\n",
    "\n",
    "from time import time\n",
    "from sklearn.cluster import KMeans,MiniBatchKMeans\n",
    "from sklearn import metrics\n"
   ]
  },
  {
   "cell_type": "code",
   "execution_count": 2,
   "metadata": {},
   "outputs": [
    {
     "data": {
      "text/html": "<div>\n<style scoped>\n    .dataframe tbody tr th:only-of-type {\n        vertical-align: middle;\n    }\n\n    .dataframe tbody tr th {\n        vertical-align: top;\n    }\n\n    .dataframe thead th {\n        text-align: right;\n    }\n</style>\n<table border=\"1\" class=\"dataframe\">\n  <thead>\n    <tr style=\"text-align: right;\">\n      <th></th>\n      <th>address</th>\n      <th>house_age</th>\n      <th>deal_time</th>\n      <th>deal_totalPrice</th>\n      <th>deal_unitPrice</th>\n      <th>floor_number</th>\n      <th>gross_area</th>\n      <th>house_decoration</th>\n      <th>house_orientation</th>\n      <th>house_usage</th>\n      <th>household_style</th>\n      <th>is_two_five</th>\n      <th>longitude_latitude</th>\n      <th>region</th>\n      <th>with_elevator</th>\n      <th>xiaoqu</th>\n      <th>lon</th>\n      <th>lat</th>\n    </tr>\n  </thead>\n  <tbody>\n    <tr>\n      <th>0</th>\n      <td>qianguan</td>\n      <td>11</td>\n      <td>2016-07</td>\n      <td>53</td>\n      <td>7391</td>\n      <td>10</td>\n      <td>71.71</td>\n      <td>其他</td>\n      <td>南</td>\n      <td>普通住宅</td>\n      <td>2室1厅1厨1卫</td>\n      <td>0</td>\n      <td>121.657898,39.025583</td>\n      <td>ganjingzi</td>\n      <td>1</td>\n      <td>盐岛湖</td>\n      <td>121.657898</td>\n      <td>39.025583</td>\n    </tr>\n    <tr>\n      <th>1</th>\n      <td>yishanli</td>\n      <td>13</td>\n      <td>2016-01</td>\n      <td>27</td>\n      <td>5639</td>\n      <td>15</td>\n      <td>47.00</td>\n      <td>其他</td>\n      <td>南</td>\n      <td>普通住宅</td>\n      <td>1室1厅1厨1卫</td>\n      <td>0</td>\n      <td>121.80001712729,39.063714218257</td>\n      <td>kaifaqudl</td>\n      <td>1</td>\n      <td>新东方公寓二期</td>\n      <td>121.800017</td>\n      <td>39.063714</td>\n    </tr>\n    <tr>\n      <th>2</th>\n      <td>zhanqian</td>\n      <td>10</td>\n      <td>2016-01</td>\n      <td>43</td>\n      <td>6344</td>\n      <td>18</td>\n      <td>67.00</td>\n      <td>精装</td>\n      <td>南</td>\n      <td>普通住宅</td>\n      <td>2室1厅1厨1卫</td>\n      <td>0</td>\n      <td>121.72275181639,39.092176577691</td>\n      <td>jinzhou</td>\n      <td>1</td>\n      <td>金连福地</td>\n      <td>121.722752</td>\n      <td>39.092177</td>\n    </tr>\n    <tr>\n      <th>3</th>\n      <td>lvshunkou1</td>\n      <td>6</td>\n      <td>2018-06</td>\n      <td>68</td>\n      <td>8418</td>\n      <td>29</td>\n      <td>80.67</td>\n      <td>毛坯</td>\n      <td>南</td>\n      <td>普通住宅</td>\n      <td>2室1厅1厨1卫</td>\n      <td>0</td>\n      <td>121.337111,38.8275</td>\n      <td>lvshunkou</td>\n      <td>1</td>\n      <td>亿达蓝山</td>\n      <td>121.337111</td>\n      <td>38.827500</td>\n    </tr>\n    <tr>\n      <th>4</th>\n      <td>lvshunkou1</td>\n      <td>10</td>\n      <td>2019-09</td>\n      <td>44</td>\n      <td>5117</td>\n      <td>18</td>\n      <td>86.00</td>\n      <td>其他</td>\n      <td>南 北</td>\n      <td>普通住宅</td>\n      <td>2室2厅1厨1卫</td>\n      <td>0</td>\n      <td>121.15637357126,38.781604479132</td>\n      <td>lvshunkou</td>\n      <td>1</td>\n      <td>华通和平海岸二期</td>\n      <td>121.156374</td>\n      <td>38.781604</td>\n    </tr>\n  </tbody>\n</table>\n</div>",
      "text/plain": "      address  house_age deal_time  deal_totalPrice  deal_unitPrice  \\\n0    qianguan         11   2016-07               53            7391   \n1    yishanli         13   2016-01               27            5639   \n2    zhanqian         10   2016-01               43            6344   \n3  lvshunkou1          6   2018-06               68            8418   \n4  lvshunkou1         10   2019-09               44            5117   \n\n   floor_number  gross_area house_decoration house_orientation house_usage  \\\n0            10       71.71               其他                 南        普通住宅   \n1            15       47.00               其他                 南        普通住宅   \n2            18       67.00               精装                 南        普通住宅   \n3            29       80.67               毛坯                 南        普通住宅   \n4            18       86.00               其他               南 北        普通住宅   \n\n  household_style  is_two_five               longitude_latitude     region  \\\n0        2室1厅1厨1卫            0             121.657898,39.025583  ganjingzi   \n1        1室1厅1厨1卫            0  121.80001712729,39.063714218257  kaifaqudl   \n2        2室1厅1厨1卫            0  121.72275181639,39.092176577691    jinzhou   \n3        2室1厅1厨1卫            0               121.337111,38.8275  lvshunkou   \n4        2室2厅1厨1卫            0  121.15637357126,38.781604479132  lvshunkou   \n\n   with_elevator    xiaoqu         lon        lat  \n0              1       盐岛湖  121.657898  39.025583  \n1              1   新东方公寓二期  121.800017  39.063714  \n2              1      金连福地  121.722752  39.092177  \n3              1      亿达蓝山  121.337111  38.827500  \n4              1  华通和平海岸二期  121.156374  38.781604  "
     },
     "execution_count": 2,
     "metadata": {},
     "output_type": "execute_result"
    }
   ],
   "source": [
    "df  = pd.read_csv(r'/home/kekeing/Desktop/code/DateMining/data/lianjia_processed.csv',sep=',')\n",
    "df.head()"
   ]
  },
  {
   "cell_type": "code",
   "execution_count": 3,
   "metadata": {},
   "outputs": [],
   "source": [
    "df  = df[['deal_totalPrice','gross_area']]\n",
    "da = df.to_numpy()\n",
    "labels = da[:,-1]"
   ]
  },
  {
   "cell_type": "code",
   "execution_count": 4,
   "metadata": {},
   "outputs": [],
   "source": [
    "def bench_k_means(estimator, name, data):\n",
    "    t0 = time()\n",
    "    estimator.fit(data)\n",
    "    print('%-9s\\t%.2fs\\t%i\\t%.3f\\t%.3f\\t%.3f\\t%.3f\\t%.3f'\n",
    "          % (name, (time() - t0), estimator.inertia_,\n",
    "             metrics.homogeneity_score(labels, estimator.labels_),\n",
    "             metrics.completeness_score(labels, estimator.labels_),\n",
    "             metrics.v_measure_score(labels, estimator.labels_),\n",
    "             metrics.adjusted_mutual_info_score(labels,estimator.labels_),\n",
    "             metrics.silhouette_score(data, estimator.labels_,metric='euclidean'),\n",
    "             )\n",
    "            )"
   ]
  },
  {
   "cell_type": "code",
   "execution_count": 5,
   "metadata": {},
   "outputs": [
    {
     "name": "stdout",
     "output_type": "stream",
     "text": "init\t\ttime\tinertia\t\thomo\tcompl\tv-meas\tAMI\tsilhouette\nk-means++\t1.82s\t170209374\t0.030\t0.622\t0.057\t0.040\t0.632\nk-means++\t3.18s\t106797320\t0.051\t0.578\t0.094\t0.065\t0.518\nk-means++\t4.26s\t79229808\t0.069\t0.595\t0.124\t0.086\t0.458\nrandom   \t1.44s\t170209801\t0.030\t0.622\t0.057\t0.040\t0.632\nrandom   \t2.53s\t106798017\t0.051\t0.578\t0.094\t0.064\t0.518\nrandom   \t4.28s\t79236992\t0.068\t0.594\t0.122\t0.084\t0.462\n"
    }
   ],
   "source": [
    "print('init\\t\\ttime\\tinertia\\t\\thomo\\tcompl\\tv-meas\\tAMI\\tsilhouette')\n",
    "for n in range(2,5):\n",
    "    bench_k_means(KMeans(init='k-means++', n_clusters=n, n_init=20),\n",
    "              name=\"k-means++\", data=da)\n",
    "for n in range(2,5):\n",
    "    bench_k_means(KMeans(init='random', n_clusters=n, n_init=20),\n",
    "              name=\"random\", data=da)"
   ]
  },
  {
   "cell_type": "code",
   "execution_count": 6,
   "metadata": {},
   "outputs": [
    {
     "name": "stdout",
     "output_type": "stream",
     "text": "init\t\ttime\tinertia\t\thomo\tcompl\tv-meas\tAMI\tsilhouette\nk-means  \t0.34s\t171016248\t0.032\t0.598\t0.061\t0.043\t0.613\nk-means  \t0.39s\t106991535\t0.053\t0.581\t0.097\t0.067\t0.510\nk-means  \t0.40s\t79765164\t0.066\t0.594\t0.119\t0.083\t0.468\n"
    }
   ],
   "source": [
    "print('init\\t\\ttime\\tinertia\\t\\thomo\\tcompl\\tv-meas\\tAMI\\tsilhouette')\n",
    "for n in range(2,5):\n",
    "    bench_k_means(MiniBatchKMeans(init='k-means++', n_clusters=n, n_init=20,batch_size=300),name=\"k-means\", data=da)"
   ]
  },
  {
   "cell_type": "code",
   "execution_count": null,
   "metadata": {},
   "outputs": [],
   "source": []
  }
 ]
}